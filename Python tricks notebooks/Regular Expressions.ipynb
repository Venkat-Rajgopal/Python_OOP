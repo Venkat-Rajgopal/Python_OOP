{
 "cells": [
  {
   "cell_type": "code",
   "execution_count": 1,
   "metadata": {},
   "outputs": [],
   "source": [
    "import re"
   ]
  },
  {
   "cell_type": "code",
   "execution_count": 2,
   "metadata": {},
   "outputs": [],
   "source": [
    "text = '''450\n",
    " 00:17:53,457 --> 00:17:56,175\n",
    " Okay, but, um,\n",
    " thanks for being with us.\n",
    "\n",
    "451\n",
    " 00:17:56,175 --> 00:17:58,616\n",
    " But, um, if there's any\n",
    " college kids watching,\n",
    "\n",
    "452\n",
    " 00:17:58,616 --> 00:18:01,610\n",
    " But, um, but, um, but, um,\n",
    " but, um, but, um,\n",
    "\n",
    "453\n",
    " 00:18:01,610 --> 00:18:03,656\n",
    " We have to drink, professor.\n",
    " 454\n",
    " 00:18:03,656 --> 00:18:07,507\n",
    " It's the rules.\n",
    " She said \"But, um\"\n",
    "\n",
    "455\n",
    " 00:18:09,788 --> 00:18:12,515\n",
    " But, um, but, um, but, um...\n",
    " god help us all.\n",
    " \n",
    " '''"
   ]
  },
  {
   "cell_type": "code",
   "execution_count": 3,
   "metadata": {},
   "outputs": [
    {
     "data": {
      "text/plain": [
       "11"
      ]
     },
     "execution_count": 3,
     "metadata": {},
     "output_type": "execute_result"
    }
   ],
   "source": [
    "len(re.findall('[B,b]ut, um', text))"
   ]
  },
  {
   "cell_type": "code",
   "execution_count": 4,
   "metadata": {},
   "outputs": [
    {
     "data": {
      "text/plain": [
       "['but, um',\n",
       " 'But, um',\n",
       " 'But, um',\n",
       " 'but, um',\n",
       " 'but, um',\n",
       " 'but, um',\n",
       " 'but, um',\n",
       " 'But, um',\n",
       " 'But, um',\n",
       " 'but, um',\n",
       " 'but, um']"
      ]
     },
     "execution_count": 4,
     "metadata": {},
     "output_type": "execute_result"
    }
   ],
   "source": [
    "re.findall('[B,b]ut, um', text)"
   ]
  },
  {
   "cell_type": "code",
   "execution_count": 14,
   "metadata": {},
   "outputs": [
    {
     "data": {
      "text/plain": [
       "[]"
      ]
     },
     "execution_count": 14,
     "metadata": {},
     "output_type": "execute_result"
    }
   ],
   "source": [
    "names = ['Andy', 'Mandi', 'Sandy', 'Hollie', 'Molly', 'Dollie']\n",
    "\n",
    "re.findall('(i$|ie$)(,)', str(names))"
   ]
  },
  {
   "cell_type": "code",
   "execution_count": null,
   "metadata": {},
   "outputs": [],
   "source": [
    "temp = []\n",
    " for i in re.finditer(pattern, str):\n",
    "     temp.append(i.group(1))"
   ]
  },
  {
   "cell_type": "code",
   "execution_count": null,
   "metadata": {},
   "outputs": [],
   "source": []
  }
 ],
 "metadata": {
  "kernelspec": {
   "display_name": "Python 3",
   "language": "python",
   "name": "python3"
  },
  "language_info": {
   "codemirror_mode": {
    "name": "ipython",
    "version": 3
   },
   "file_extension": ".py",
   "mimetype": "text/x-python",
   "name": "python",
   "nbconvert_exporter": "python",
   "pygments_lexer": "ipython3",
   "version": "3.7.3"
  }
 },
 "nbformat": 4,
 "nbformat_minor": 2
}
