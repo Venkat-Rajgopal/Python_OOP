{
 "cells": [
  {
   "cell_type": "markdown",
   "metadata": {},
   "source": [
    "- \\n = linefeed (prints the stuff after this on the next line)\n",
    "- \\r = carriage return (basically also used for printing stuff on the next line)\n",
    "- \\’ = print a single quote ( ‘ ) in your text\n",
    "- \\” = print a double quote ( “ ) in your text\n",
    "- \\\\ = print a backslash ( \\ ) in your text"
   ]
  },
  {
   "cell_type": "code",
   "execution_count": 1,
   "metadata": {},
   "outputs": [
    {
     "name": "stdout",
     "output_type": "stream",
     "text": [
      "hello\t...\n"
     ]
    }
   ],
   "source": [
    "print(\"hello\\t...\")"
   ]
  },
  {
   "cell_type": "code",
   "execution_count": 4,
   "metadata": {},
   "outputs": [
    {
     "name": "stdout",
     "output_type": "stream",
     "text": [
      "hello\n",
      "world\n"
     ]
    }
   ],
   "source": [
    "print('hello\\nworld')"
   ]
  },
  {
   "cell_type": "code",
   "execution_count": 6,
   "metadata": {},
   "outputs": [
    {
     "name": "stdout",
     "output_type": "stream",
     "text": [
      "tom'jerry\n"
     ]
    }
   ],
   "source": [
    "print('tom\\'jerry')"
   ]
  },
  {
   "cell_type": "code",
   "execution_count": 11,
   "metadata": {},
   "outputs": [
    {
     "name": "stdout",
     "output_type": "stream",
     "text": [
      "tom\t\"&\"\tjerry\n"
     ]
    }
   ],
   "source": [
    "print('tom\\t\\\"&\"\\tjerry')"
   ]
  },
  {
   "cell_type": "code",
   "execution_count": 10,
   "metadata": {
    "scrolled": true
   },
   "outputs": [
    {
     "name": "stdout",
     "output_type": "stream",
     "text": [
      "Hello, 'friend'!\n",
      "Please enter your name below:\n",
      "\n",
      "Name:\t(your name here)\n",
      "Age:\t(your age here)\n"
     ]
    }
   ],
   "source": [
    "print(\"Hello, \\'friend\\'!\\nPlease enter your name below:\\n\\nName:\\t(your name here)\\nAge:\\t(your age here)\")"
   ]
  },
  {
   "cell_type": "code",
   "execution_count": 12,
   "metadata": {},
   "outputs": [
    {
     "name": "stdout",
     "output_type": "stream",
     "text": [
      "~\n"
     ]
    }
   ],
   "source": [
    "print('\\x7E')"
   ]
  },
  {
   "cell_type": "code",
   "execution_count": 13,
   "metadata": {},
   "outputs": [
    {
     "name": "stdout",
     "output_type": "stream",
     "text": [
      "\t\n",
      "~\n"
     ]
    }
   ],
   "source": [
    "print(\"\"\"\\t\\n\\x7E\"\"\")"
   ]
  },
  {
   "cell_type": "code",
   "execution_count": 14,
   "metadata": {},
   "outputs": [
    {
     "name": "stdout",
     "output_type": "stream",
     "text": [
      "foo\\\\bar\\nbaz\n"
     ]
    }
   ],
   "source": [
    "print(r'foo\\\\bar\\nbaz')"
   ]
  },
  {
   "cell_type": "code",
   "execution_count": 17,
   "metadata": {},
   "outputs": [
    {
     "name": "stdout",
     "output_type": "stream",
     "text": [
      "foo\\bar\n",
      "baz\n"
     ]
    }
   ],
   "source": [
    "print('foo\\\\bar\\nbaz')"
   ]
  }
 ],
 "metadata": {
  "kernelspec": {
   "display_name": "Python 3",
   "language": "python",
   "name": "python3"
  },
  "language_info": {
   "codemirror_mode": {
    "name": "ipython",
    "version": 3
   },
   "file_extension": ".py",
   "mimetype": "text/x-python",
   "name": "python",
   "nbconvert_exporter": "python",
   "pygments_lexer": "ipython3",
   "version": "3.7.3"
  }
 },
 "nbformat": 4,
 "nbformat_minor": 2
}
